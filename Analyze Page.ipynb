{
 "cells": [
  {
   "cell_type": "code",
   "execution_count": 7,
   "metadata": {
    "collapsed": true
   },
   "outputs": [],
   "source": [
    "import csv\n",
    "import nltk\n",
    "from nltk.corpus import twitter_samples\n",
    "import pickle"
   ]
  },
  {
   "cell_type": "code",
   "execution_count": 2,
   "metadata": {
    "collapsed": true
   },
   "outputs": [],
   "source": [
    "f = open('sent_classifier.pickle', 'rb')\n",
    "classifier = pickle.load(f)\n",
    "f.close()"
   ]
  },
  {
   "cell_type": "code",
   "execution_count": 8,
   "metadata": {
    "collapsed": false
   },
   "outputs": [],
   "source": [
    "pos_strings = twitter_samples.strings('positive_tweets.json')\n",
    "neg_strings = twitter_samples.strings('negative_tweets.json')"
   ]
  },
  {
   "cell_type": "code",
   "execution_count": 9,
   "metadata": {
    "collapsed": true
   },
   "outputs": [],
   "source": [
    "tweets = []\n",
    "for words in pos_strings:\n",
    "    words_filtered = [e.lower() for e in words.split() if len(e) >= 3]\n",
    "    tweets.append((words_filtered, 'positive'))\n",
    "for words in neg_strings:\n",
    "    words_filtered = [e.lower() for e in words.split() if len(e) >= 3]\n",
    "    tweets.append((words_filtered, 'negative'))"
   ]
  },
  {
   "cell_type": "code",
   "execution_count": 10,
   "metadata": {
    "collapsed": true
   },
   "outputs": [],
   "source": [
    "def get_words_in_tweets(tweets):\n",
    "    all_words = []\n",
    "    for (words, sentiment) in tweets:\n",
    "        all_words.extend(words)\n",
    "    return all_words\n",
    "\n",
    "def get_word_features(wordlist):\n",
    "    wordlist = nltk.FreqDist(wordlist)\n",
    "    word_features = wordlist.keys()\n",
    "    return word_features"
   ]
  },
  {
   "cell_type": "code",
   "execution_count": 11,
   "metadata": {
    "collapsed": true
   },
   "outputs": [],
   "source": [
    "word_features = get_word_features(get_words_in_tweets(tweets))"
   ]
  },
  {
   "cell_type": "code",
   "execution_count": 12,
   "metadata": {
    "collapsed": true
   },
   "outputs": [],
   "source": [
    "def extract_features(document):\n",
    "    document_words = set(document)\n",
    "    features = {}\n",
    "    for word in word_features:\n",
    "        features['contains(%s)' % word] = (word in document_words)\n",
    "    return features"
   ]
  },
  {
   "cell_type": "code",
   "execution_count": 13,
   "metadata": {
    "collapsed": false
   },
   "outputs": [
    {
     "name": "stdout",
     "output_type": "stream",
     "text": [
      "positive\n",
      "-0.7963763942403084\n",
      "-1.2371616364539264\n",
      "0.57579357898592\n",
      "0.42420642101407874\n"
     ]
    }
   ],
   "source": [
    "var_string = \"To facilitate excellence and integrity by providing customised numerate solutions as disciplined scientists\"\n",
    "print( classifier.prob_classify(extract_features(var_string.split())).max() )\n",
    "print( classifier.prob_classify(extract_features(var_string.split()))._prob_dict['positive'] )\n",
    "print( classifier.prob_classify(extract_features(var_string.split()))._prob_dict['negative'] )\n",
    "print( classifier.prob_classify(extract_features(var_string.split())).prob('positive') )\n",
    "print( classifier.prob_classify(extract_features(var_string.split())).prob('negative') )"
   ]
  },
  {
   "cell_type": "code",
   "execution_count": 23,
   "metadata": {
    "collapsed": false
   },
   "outputs": [
    {
     "name": "stdout",
     "output_type": "stream",
     "text": [
      " Web Developer | GIS Aficionado, Data Analyst | Demolitions Expert \n",
      "The Lab - Connor Riley - Freelance Web Developer\n",
      "Connor Riley\n",
      "The Wikipedia Map of… \n",
      "RVA Heat Map Generator \n",
      "An introduction to Three.js \n",
      "Easy Mapping with Tangram \n",
      "Recursive Flowers \n",
      "Simple recursion — A beginner’s tutorial. \n"
     ]
    }
   ],
   "source": [
    "# with open('connorriley.me.csv') as csvfile:\n",
    "#     reader = csv.DictReader(csvfile)\n",
    "#     row1 = next(reader)\n",
    "#     print(row1[1])\n",
    "# #     for row in reader:\n",
    "# #         print(row)\n",
    "mycsv = csv.reader(open('connorriley.me.csv'))\n",
    "for row in mycsv:\n",
    "    text = row[1]\n",
    "    print (text)"
   ]
  },
  {
   "cell_type": "code",
   "execution_count": null,
   "metadata": {
    "collapsed": true
   },
   "outputs": [],
   "source": []
  }
 ],
 "metadata": {
  "kernelspec": {
   "display_name": "Python 3",
   "language": "python",
   "name": "python3"
  },
  "language_info": {
   "codemirror_mode": {
    "name": "ipython",
    "version": 3
   },
   "file_extension": ".py",
   "mimetype": "text/x-python",
   "name": "python",
   "nbconvert_exporter": "python",
   "pygments_lexer": "ipython3",
   "version": "3.6.0"
  }
 },
 "nbformat": 4,
 "nbformat_minor": 2
}
